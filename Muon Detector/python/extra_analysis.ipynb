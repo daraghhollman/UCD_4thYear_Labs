{
 "cells": [
  {
   "cell_type": "code",
   "execution_count": 41,
   "metadata": {},
   "outputs": [],
   "source": [
    "import matplotlib.pyplot as plt\n",
    "import numpy as np\n",
    "from math import *\n",
    "from scipy.optimize import curve_fit, minimize\n",
    "from scipy.stats import poisson\n",
    "from tqdm import tqdm"
   ]
  },
  {
   "cell_type": "code",
   "execution_count": 3,
   "metadata": {},
   "outputs": [],
   "source": [
    "countrateData = np.loadtxt(\"./../data/countRate_vs_threshold.txt\", delimiter=\",\", skiprows=1)\n",
    "\n",
    "countrateDictionary = {\n",
    "    \"threshold\": countrateData[:,0],\n",
    "    \"counts\": countrateData[:,1],\n",
    "    \"time\": countrateData[:,2]\n",
    "}\n",
    "\n",
    "rates = []\n",
    "for count, time in zip (countrateDictionary[\"counts\"], countrateDictionary[\"time\"]):\n",
    "    rates.append(count / time)\n",
    "\n",
    "countrateDictionary[\"rates\"] = rates"
   ]
  },
  {
   "cell_type": "code",
   "execution_count": 4,
   "metadata": {},
   "outputs": [
    {
     "data": {
      "text/plain": [
       "<matplotlib.collections.PathCollection at 0x7f0b64cf4c10>"
      ]
     },
     "execution_count": 4,
     "metadata": {},
     "output_type": "execute_result"
    },
    {
     "data": {
      "image/png": "[encoded data removed]",
      "text/plain": [
       "<Figure size 640x480 with 1 Axes>"
      ]
     },
     "metadata": {},
     "output_type": "display_data"
    }
   ],
   "source": [
    "plt.scatter(countrateDictionary[\"threshold\"], countrateDictionary[\"rates\"])"
   ]
  },
  {
   "cell_type": "code",
   "execution_count": 5,
   "metadata": {},
   "outputs": [],
   "source": [
    "def LoadExperimentRun(path, numberOfChannelsToRemove):\n",
    "    binCounts = np.loadtxt(path)[numberOfChannelsToRemove:-1]\n",
    "\n",
    "    binNumber = np.arange(numberOfChannelsToRemove, len(binCounts))\n",
    "\n",
    "    return (binNumber, binCounts)"
   ]
  },
  {
   "cell_type": "code",
   "execution_count": 42,
   "metadata": {},
   "outputs": [],
   "source": [
    "# Data Analysis pipeline\n",
    "\n",
    "def RebinData(data, binFraction, method=\"mean\", verbose=False):\n",
    "    # Inputs are the data output from LoadExperimentRun, and a binFraction which is a number between 0 and 1 which determines how large the bins are\n",
    "\n",
    "    bins = list(data[0])\n",
    "    data = list(data[1])\n",
    "\n",
    "    binWidth = len(data) * binFraction\n",
    "\n",
    "    lowerBound = bins[0]\n",
    "    numberOfBins = floor(len(data) / binWidth)\n",
    "\n",
    "    newBins = np.arange(lowerBound, binWidth * (numberOfBins + 1), binWidth)\n",
    "    newBins = [floor(el) for el in newBins]\n",
    "\n",
    "    #topBound = floor(newBins[-1] + binWidth)\n",
    "    #newBins.append(topBound)\n",
    "    \n",
    "    binnedData = []\n",
    "\n",
    "    for i, binBound in enumerate(newBins):\n",
    "        #print(f\"{i}/{len(newBins)}\")\n",
    "        if i < len(newBins)-1:\n",
    "            binnedData.append(list(data[newBins[i]:newBins[i+1]]))\n",
    "\n",
    "    # binnedData is a an array which each row containing a bin\n",
    "    binnedData = np.array(binnedData, dtype=\"object\")\n",
    "\n",
    "    averagedBinnedData = []\n",
    "    binnedDataLowerUncertainty = []\n",
    "    binnedDataUpperUncertainty = []\n",
    "    for row in tqdm(binnedData):\n",
    "\n",
    "        avg = AverageDataInBin(row, method, verbose=verbose)\n",
    "        averagedBinnedData.append(avg[0])\n",
    "        binnedDataLowerUncertainty.append(avg[1])\n",
    "        binnedDataUpperUncertainty.append(avg[2])\n",
    "\n",
    "    return (newBins[:-1], averagedBinnedData, binnedDataLowerUncertainty, binnedDataUpperUncertainty)\n",
    "    \n",
    "def AverageDataInBin(dataInBin, method=\"mean\", verbose=False):\n",
    "\n",
    "    if method == \"mean\":\n",
    "        averagedRow = sum(dataInBin) / len(dataInBin)\n",
    "        uncertainty = np.std(dataInBin)\n",
    "\n",
    "        upperUncertainty = lowerUncertainty = uncertainty\n",
    "\n",
    "    elif method == \"MLE\":\n",
    "        \n",
    "        # Finds the maximum likelihood for mu in a poisson distribution\n",
    "        # To do this we can find the minimum of the negative log likelihood\n",
    "        model = minimize(MLE_negativeLogLikelihood, np.max(dataInBin) / 2, args=dataInBin, method=\"Nelder-Mead\")\n",
    "        \n",
    "        averagedRow = model.x\n",
    "        lowerUncertainty, upperUncertainty = poisson.interval(0.68, averagedRow) # 1 sigma uncertainty\n",
    "        \n",
    "        if verbose:\n",
    "            print(averagedRow, uncertainty)\n",
    "\n",
    "    return averagedRow, lowerUncertainty, upperUncertainty\n",
    "\n",
    "\n",
    "# Method of Maximum Likelihood Estimation - Calculate the likelihood of the pmf function of a given mu for each datapoint in the bin\n",
    "def MLE_negativeLogLikelihood(lamda, data):\n",
    "\n",
    "    logLikelihoods = []\n",
    "    for el in data:\n",
    "        logLikelihoods.append(poisson.pmf(k=el, mu = lamda))\n",
    "\n",
    "    return - np.sum(logLikelihoods)\n",
    "\n",
    "\n",
    "def FindFitParameters(data, FittingFunction):\n",
    "\n",
    "    pars, cov = curve_fit(FittingFunction, data[0], data[1], [2, -0.001, 0.1, 0.1])\n",
    "\n",
    "    return pars, cov\n",
    "    \n",
    "def ExponentialCurve(x, a, b, c, d):\n",
    "    y = []\n",
    "    \n",
    "    for point in x:\n",
    "        y.append(a * exp(b * point + c) + d)\n",
    "    \n",
    "    return y"
   ]
  },
  {
   "cell_type": "code",
   "execution_count": 33,
   "metadata": {},
   "outputs": [
    {
     "name": "stdout",
     "output_type": "stream",
     "text": [
      "400.40000000000003\n"
     ]
    }
   ],
   "source": [
    "data = LoadExperimentRun(\"./../data/muons_T-800mV_W-40ns_DMH_75600s.txt\", 90)\n",
    "\n",
    "\n",
    "binFraction = 0.1\n",
    "binSize = binFraction * data[0][-1]\n",
    "print(binSize)\n",
    "\n",
    "rebinnedData = RebinData(data, binFraction, method=\"mean\", verbose=False)\n",
    "\n",
    "x = rebinnedData[0]\n",
    "y = rebinnedData[1]\n",
    "y = np.squeeze(y)\n",
    "\n",
    "yErr = np.array(list(zip(rebinnedData[2], rebinnedData[3]))).T\n",
    "yErr = np.squeeze(yErr)"
   ]
  },
  {
   "cell_type": "code",
   "execution_count": 37,
   "metadata": {},
   "outputs": [
    {
     "data": {
      "text/plain": [
       "Text(0, 0.5, 'Counts')"
      ]
     },
     "execution_count": 37,
     "metadata": {},
     "output_type": "execute_result"
    },
    {
     "data": {
      "image/png": "[encoded data removed]",
      "text/plain": [
       "<Figure size 1000x500 with 1 Axes>"
      ]
     },
     "metadata": {},
     "output_type": "display_data"
    }
   ],
   "source": [
    "#pars, cov = FindFitParameters(rebinnedData[0:2], ExponentialCurve)\n",
    "\n",
    "\n",
    "fig, ax = plt.subplots(1, 1, figsize=(10,5))\n",
    "\n",
    "#ax.scatter(rebinnedData[0], ExponentialCurve(rebinnedData[0], 2, -0.001, 0.1, 0.1), color=\"indianred\")\n",
    "#ax.plot(rebinnedData[0], ExponentialCurve(rebinnedData[0], pars[0], pars[1], pars[2], pars[3]), color=\"indianred\")\n",
    "\n",
    "ax.errorbar(x, y, yerr=yErr, fmt=\"o\", capsize=3, linewidth=1, color=\"mediumturquoise\")\n",
    "ax.set_xlabel(\"Channels\")\n",
    "ax.set_ylabel(\"Counts\")"
   ]
  },
  {
   "cell_type": "code",
   "execution_count": 45,
   "metadata": {},
   "outputs": [
    {
     "name": "stderr",
     "output_type": "stream",
     "text": [
      "  0%|          | 0/97 [00:00<?, ?it/s]"
     ]
    },
    {
     "name": "stderr",
     "output_type": "stream",
     "text": [
      "100%|██████████| 97/97 [00:15<00:00,  6.15it/s]\n"
     ]
    }
   ],
   "source": [
    "data = LoadExperimentRun(\"./../data/muons_T-800mV_W-40ns_DMH_75600s.txt\", 90)\n",
    "\n",
    "rebinnedData = RebinData(data, 0.01, method=\"MLE\", verbose=False)\n",
    "\n",
    "x = rebinnedData[0]\n",
    "y = rebinnedData[1]\n",
    "y = np.squeeze(y)\n",
    "\n",
    "yErr = np.array(list(zip(rebinnedData[2], rebinnedData[3]))).T\n",
    "yErr = np.squeeze(yErr)"
   ]
  },
  {
   "cell_type": "code",
   "execution_count": 46,
   "metadata": {},
   "outputs": [
    {
     "data": {
      "text/plain": [
       "Text(0, 0.5, 'Counts')"
      ]
     },
     "execution_count": 46,
     "metadata": {},
     "output_type": "execute_result"
    },
    {
     "data": {
      "image/png": "[encoded data removed]",
      "text/plain": [
       "<Figure size 1000x500 with 1 Axes>"
      ]
     },
     "metadata": {},
     "output_type": "display_data"
    }
   ],
   "source": [
    "#pars, cov = FindFitParameters(rebinnedData[0:2], ExponentialCurve)\n",
    "\n",
    "\n",
    "fig, ax = plt.subplots(1, 1, figsize=(10,5))\n",
    "\n",
    "#ax.scatter(rebinnedData[0], ExponentialCurve(rebinnedData[0], 2, -0.001, 0.1, 0.1), color=\"indianred\")\n",
    "#ax.plot(rebinnedData[0], ExponentialCurve(rebinnedData[0], pars[0], pars[1], pars[2], pars[3]), color=\"indianred\")\n",
    "\n",
    "ax.errorbar(x, y, yerr=yErr, fmt=\"o\", capsize=3, linewidth=1, color=\"mediumturquoise\")\n",
    "ax.set_xlabel(\"Channels\")\n",
    "ax.set_ylabel(\"Counts\")"
   ]
  },
  {
   "cell_type": "code",
   "execution_count": null,
   "metadata": {},
   "outputs": [],
   "source": []
  }
 ],
 "metadata": {
  "kernelspec": {
   "display_name": "Python 3",
   "language": "python",
   "name": "python3"
  },
  "language_info": {
   "codemirror_mode": {
    "name": "ipython",
    "version": 3
   },
   "file_extension": ".py",
   "mimetype": "text/x-python",
   "name": "python",
   "nbconvert_exporter": "python",
   "pygments_lexer": "ipython3",
   "version": "3.10.9"
  },
  "orig_nbformat": 4
 },
 "nbformat": 4,
 "nbformat_minor": 2
}
