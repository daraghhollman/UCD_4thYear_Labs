{
 "cells": [
  {
   "cell_type": "code",
   "execution_count": 1,
   "id": "a30492dd",
   "metadata": {},
   "outputs": [],
   "source": [
    "from pydaqmx_helper.adc import ADC\n",
    "from pydaqmx_helper.dac import DAC"
   ]
  },
  {
   "cell_type": "code",
   "execution_count": 27,
   "id": "dffd4637",
   "metadata": {},
   "outputs": [],
   "source": [
    "from tqdm import tqdm\n",
    "from glob import glob\n",
    "import time\n",
    "import numpy as np\n",
    "import matplotlib.pyplot as plt\n",
    "from matplotlib import cm\n",
    "from scipy.optimize import curve_fit\n",
    "from matplotlib.colors import LogNorm"
   ]
  },
  {
   "cell_type": "code",
   "execution_count": 3,
   "id": "8d0c2973",
   "metadata": {},
   "outputs": [],
   "source": [
    "thermocoupleADC = ADC()\n",
    "thermocoupleDAC = DAC(0)"
   ]
  },
  {
   "cell_type": "code",
   "execution_count": 4,
   "id": "7c02b784",
   "metadata": {},
   "outputs": [
    {
     "name": "stdout",
     "output_type": "stream",
     "text": [
      "Activated Channel 0\n",
      "Activated Channel 1\n",
      "Activated Channel 2\n",
      "Activated Channel 3\n",
      "Activated Channel 4\n",
      "Activated Channel 5\n",
      "Activated Channel 6\n",
      "Activated Channel 7\n"
     ]
    },
    {
     "data": {
      "text/plain": [
       "[0, 1, 2, 3, 4, 5, 6, 7]"
      ]
     },
     "execution_count": 4,
     "metadata": {},
     "output_type": "execute_result"
    }
   ],
   "source": [
    "thermocoupleADC.addChannels([0, 1, 2, 3, 4, 5, 6, 7], ADC_mode=\"DAQmx_Val_RSE\")\n",
    "thermocoupleADC.getActiveChannels()"
   ]
  },
  {
   "cell_type": "code",
   "execution_count": 5,
   "id": "01116ddc",
   "metadata": {},
   "outputs": [
    {
     "data": {
      "text/plain": [
       "{0: (-0.10617478582271289,),\n",
       " 1: (-0.1060742698939201,),\n",
       " 2: (-0.09717677598300511,),\n",
       " 3: (-0.10655382743349762,),\n",
       " 4: (-0.14797435425530736,),\n",
       " 5: (-0.1487397358162248,),\n",
       " 6: (-0.12784428966143224,),\n",
       " 7: (-0.14872219201377845,)}"
      ]
     },
     "execution_count": 5,
     "metadata": {},
     "output_type": "execute_result"
    }
   ],
   "source": [
    "thermocoupleADC.sampleVoltages()"
   ]
  },
  {
   "cell_type": "markdown",
   "id": "393d6079",
   "metadata": {},
   "source": [
    "# Calibration"
   ]
  },
  {
   "cell_type": "code",
   "execution_count": 6,
   "id": "2f9f6b30",
   "metadata": {},
   "outputs": [],
   "source": [
    "# Need to convert from adc pin voltage to temperature"
   ]
  },
  {
   "cell_type": "code",
   "execution_count": 2,
   "id": "7a4c6f2a",
   "metadata": {},
   "outputs": [],
   "source": [
    "def SwitchPinLayer(dac, layer):\n",
    "    \n",
    "    # We have 16 thermocouples but only 8 ADC ouptuts, a 16 to 8 channel switch is used\n",
    "    # We describe the two sets of thermocouples as layers, and switch between them using this function\n",
    "    # This function sets voltage switch to the value corresponding to the 'layer' parameter which is 0 or 1\n",
    "    \n",
    "    if layer == 0:\n",
    "        dac.writeVoltage(0)\n",
    "        \n",
    "    elif layer == 1:\n",
    "        dac.writeVoltage(5)\n",
    "        \n",
    "    else:\n",
    "        raise ValueError(\"Parameter: 'Layer' must be of type int and either 0 or 1\")\n",
    "        \n",
    "    return"
   ]
  },
  {
   "cell_type": "code",
   "execution_count": 3,
   "id": "7fe59cda",
   "metadata": {},
   "outputs": [],
   "source": [
    "def MeasureTemperatures(adc, dac, calibrationFunction=None):\n",
    "    # Function to record the temperatures of all the pins\n",
    "    # Returns a list with the length of the number of pins, with each value being the voltage of pin 'i'.\n",
    "    \n",
    "    # Define a new list containing thermocouple outputs\n",
    "    \n",
    "    temperatures = list()\n",
    "    \n",
    "    # First ensure pin switch is on layer 0\n",
    "    SwitchPinLayer(dac, 0)\n",
    "    \n",
    "    # Record voltages for each pin\n",
    "    firstPins = adc.sampleVoltages()\n",
    "    \n",
    "    for el in firstPins.values():\n",
    "        temperatures.append(el[0]) # first element of el is needed as the values of the returned dictionary are tuples\n",
    "    \n",
    "    # Switch pins to second layer\n",
    "    SwitchPinLayer(dac, 1)\n",
    "    \n",
    "    # Record voltages for each pin\n",
    "    secondPins = adc.sampleVoltages()\n",
    "    \n",
    "    for el in secondPins.values():\n",
    "        \n",
    "        temperatures.append(el[0])\n",
    "        \n",
    "    return temperatures"
   ]
  },
  {
   "cell_type": "code",
   "execution_count": 10,
   "id": "f596d479",
   "metadata": {},
   "outputs": [
    {
     "data": {
      "text/plain": [
       "[-0.11639078776145695,\n",
       " -0.1060742698939201,\n",
       " -0.09717677598300511,\n",
       " -0.10655382743349762,\n",
       " -0.14797435425530736,\n",
       " -0.1487397358162248,\n",
       " -0.11762786199781416,\n",
       " -0.13850665213091062,\n",
       " -0.14703879357769978,\n",
       " -0.14692910546706628,\n",
       " -0.1278601095112073,\n",
       " -0.14741423003474807,\n",
       " -0.11733038397550288,\n",
       " -0.12831033659244184,\n",
       " -0.11762786199781416,\n",
       " -0.12829111224804635]"
      ]
     },
     "execution_count": 10,
     "metadata": {},
     "output_type": "execute_result"
    }
   ],
   "source": [
    "MeasureTemperatures(thermocoupleADC, thermocoupleDAC)"
   ]
  },
  {
   "cell_type": "code",
   "execution_count": 4,
   "id": "8cd4c89e",
   "metadata": {},
   "outputs": [],
   "source": [
    "def SaveCalibrationData(path, temperature):\n",
    "    data = MeasureTemperatures(thermocoupleADC, thermocoupleDAC)\n",
    "    \n",
    "    fullPath = path + \"/nc_calibration_\" + str(temperature)\n",
    "\n",
    "    np.savetxt(fullPath, data)"
   ]
  },
  {
   "cell_type": "code",
   "execution_count": 15,
   "id": "bcada16e",
   "metadata": {},
   "outputs": [],
   "source": [
    "SaveCalibrationData(r\"C:\\Users\\Student\\Desktop\\20302561\\Calibration\", \"test\")"
   ]
  },
  {
   "cell_type": "code",
   "execution_count": 152,
   "id": "c0d3db50",
   "metadata": {},
   "outputs": [],
   "source": [
    "SaveCalibrationData(r\"C:\\Users\\Student\\Desktop\\20302561\\Calibration\", 71.5)"
   ]
  },
  {
   "cell_type": "markdown",
   "id": "014a1f93",
   "metadata": {},
   "source": [
    "## Loading Calibration Data"
   ]
  },
  {
   "cell_type": "code",
   "execution_count": 5,
   "id": "a5ed0f16",
   "metadata": {},
   "outputs": [],
   "source": [
    "def GetCalibrationData(path):\n",
    "    paths = glob(path)\n",
    "    paths.sort(key = lambda x: float(x.split('_')[-1]))\n",
    "    \n",
    "    data = [0] * len(paths)\n",
    "    temperature = [float(el.split('_')[-1]) for el in paths]\n",
    "    \n",
    "    for i, path in enumerate(paths):\n",
    "        data[i] = np.loadtxt(path)\n",
    "\n",
    "    return [temperature, np.array(data)]"
   ]
  },
  {
   "cell_type": "code",
   "execution_count": 6,
   "id": "8275588c",
   "metadata": {},
   "outputs": [],
   "source": [
    "def QuadraticFit(x, a, b, c):\n",
    "\n",
    "    if type(x) == np.dtype('float64'):\n",
    "        x = [x]\n",
    "\n",
    "    output = []\n",
    "\n",
    "    for el in x:\n",
    "        output.append(a*el**2 + b*el + c)\n",
    "\n",
    "    return output"
   ]
  },
  {
   "cell_type": "code",
   "execution_count": 7,
   "id": "12379a83",
   "metadata": {},
   "outputs": [],
   "source": [
    "def PlotCalibration(calibrationData):\n",
    "\n",
    "    fig, ax = plt.subplots()\n",
    "    \n",
    "    pins = [ calibrationData[1][:,i] for i in range(len(calibrationData[1]))]\n",
    "\n",
    "    fitPars = []\n",
    "\n",
    "    for i, pinValues in enumerate(pins):\n",
    "        \n",
    "        ax.errorbar(calibrationData[0], pinValues, xerr=0.5, fmt=\".\", color=plt.get_cmap(\"viridis\").__call__(i / 16))\n",
    "\n",
    "        #print(calibrationData[0])\n",
    "        #print(pinValues)\n",
    "\n",
    "        pars, cov = curve_fit(QuadraticFit, calibrationData[0], pinValues)\n",
    "\n",
    "        ax.plot(calibrationData[0], QuadraticFit(calibrationData[0], pars[0], pars[1], pars[2]), alpha=0.5, color=plt.get_cmap(\"viridis\").__call__(i / 16))\n",
    "\n",
    "        fitPars.append(pars)\n",
    "    \n",
    "    ax.set_xlabel(r\"Temperature ($^\\circ$C)\")\n",
    "    ax.set_ylabel(\"Thermocouple Voltage (V)\")\n",
    "    ax.margins(0)\n",
    "    ax.set_xlim(0, 90)\n",
    "\n",
    "    return fitPars"
   ]
  },
  {
   "cell_type": "code",
   "execution_count": 8,
   "id": "20eb339c",
   "metadata": {},
   "outputs": [],
   "source": [
    "def CreateCalibrationFunction(fitPars):\n",
    "\n",
    "    def CalibrationFunction(voltages):\n",
    "\n",
    "        temperatures = []\n",
    "\n",
    "        for i, pinVoltage in enumerate(voltages):\n",
    "\n",
    "            quadratic = np.polynomial.Polynomial(np.flip(fitPars[i]))\n",
    "\n",
    "            roots = (quadratic - pinVoltage).roots()\n",
    "            \n",
    "            for r in roots:\n",
    "                if r > 0:\n",
    "                    root = r\n",
    "\n",
    "            temperatures.append(root)\n",
    "\n",
    "        return temperatures\n",
    "\n",
    "    return CalibrationFunction"
   ]
  },
  {
   "cell_type": "code",
   "execution_count": 9,
   "id": "c1d30293",
   "metadata": {},
   "outputs": [
    {
     "data": {
      "image/png": "[encoded data removed]",
      "text/plain": [
       "<Figure size 640x480 with 1 Axes>"
      ]
     },
     "metadata": {},
     "output_type": "display_data"
    }
   ],
   "source": [
    "calibrationData = GetCalibrationData(r\"../data/calibration/*\")\n",
    "fitPars = PlotCalibration(calibrationData)\n",
    "CalibrationFunction = CreateCalibrationFunction(fitPars)"
   ]
  },
  {
   "cell_type": "markdown",
   "id": "85329a17",
   "metadata": {},
   "source": [
    "# Experiment"
   ]
  },
  {
   "cell_type": "code",
   "execution_count": 10,
   "id": "3dfa8690",
   "metadata": {},
   "outputs": [],
   "source": [
    "def ExperimentRun(measurements, timeBetween):\n",
    "\n",
    "    # measurements: Number of measurements to be made\n",
    "    # timeBetween: Time to wait between each measurment (seconds)\n",
    "\n",
    "    # files containing the data for each measurment will be saved before the next one begins\n",
    "\n",
    "    startTime = time.time()\n",
    "\n",
    "    for i in tqdm(range(measurements)):\n",
    "\n",
    "        print(f\"Taking measurment {i} of {measurements}\")\n",
    "\n",
    "        ## DO MEASUREMENT\n",
    "\n",
    "        print(\"Measurment complete, writing to file\")\n",
    "\n",
    "        currentTime = time.time() - startTime\n",
    "        currentTimeRounded = int(currentTime)\n",
    "\n",
    "        ## Write to file. Note that filename should contain the time at which the measurment was taken\n",
    "\n",
    "        print(f\"Waiting {timeBetween} seconds\")\n",
    "        \n",
    "        time.sleep(timeBetween)\n",
    "\n",
    "    print(\"All measurments complete, exiting function\")\n",
    "    totalTime = time.time() - startTime\n",
    "    print(f\"Total time ellapsed: {totalTime}\")\n",
    "\n",
    "    return"
   ]
  },
  {
   "cell_type": "code",
   "execution_count": 16,
   "id": "ec756e5f",
   "metadata": {},
   "outputs": [
    {
     "name": "stderr",
     "output_type": "stream",
     "text": [
      "  0%|          | 0/3 [00:00<?, ?it/s]"
     ]
    },
    {
     "name": "stdout",
     "output_type": "stream",
     "text": [
      "Taking measurment 0 of 3\n",
      "Measurment complete, writing to file\n",
      "Waiting 5 seconds\n"
     ]
    },
    {
     "name": "stderr",
     "output_type": "stream",
     "text": [
      " 33%|███▎      | 1/3 [00:05<00:10,  5.00s/it]"
     ]
    },
    {
     "name": "stdout",
     "output_type": "stream",
     "text": [
      "Taking measurment 1 of 3\n",
      "Measurment complete, writing to file\n",
      "Waiting 5 seconds\n"
     ]
    },
    {
     "name": "stderr",
     "output_type": "stream",
     "text": [
      " 67%|██████▋   | 2/3 [00:10<00:05,  5.00s/it]"
     ]
    },
    {
     "name": "stdout",
     "output_type": "stream",
     "text": [
      "Taking measurment 2 of 3\n",
      "Measurment complete, writing to file\n",
      "Waiting 5 seconds\n"
     ]
    },
    {
     "name": "stderr",
     "output_type": "stream",
     "text": [
      "100%|██████████| 3/3 [00:15<00:00,  5.00s/it]"
     ]
    },
    {
     "name": "stdout",
     "output_type": "stream",
     "text": [
      "All measurments complete, exiting function\n",
      "Total time ellapsed: 15.013916254043579\n"
     ]
    },
    {
     "name": "stderr",
     "output_type": "stream",
     "text": [
      "\n"
     ]
    }
   ],
   "source": [
    "ExperimentRun(3, 5)"
   ]
  },
  {
   "cell_type": "markdown",
   "id": "3b8b22d4",
   "metadata": {},
   "source": [
    "## Plotting"
   ]
  },
  {
   "cell_type": "code",
   "execution_count": 11,
   "id": "84a6253b",
   "metadata": {},
   "outputs": [],
   "source": [
    "def GetData(path):\n",
    "    paths = glob(path)\n",
    "    paths.sort(key = lambda x: float(x.split('_')[-1]))\n",
    "    \n",
    "    data = [0] * len(paths)\n",
    "    time = [float(el.split('_')[-1]) for el in paths]\n",
    "\n",
    "    for i, path in enumerate(paths):\n",
    "        data[i] = np.loadtxt(path)\n",
    "    \n",
    "    return [time, np.array(data)]"
   ]
  },
  {
   "cell_type": "code",
   "execution_count": 86,
   "id": "48cc0db5",
   "metadata": {},
   "outputs": [],
   "source": [
    "def dS_external():\n",
    "    return\n",
    "\n",
    "def dS_internal(pinTemperatures):\n",
    "\n",
    "    total = 0\n",
    "\n",
    "    for i in range(len(pinTemperatures) - 1):\n",
    "        currentT = pinTemperatures[i]\n",
    "        nextT = pinTemperatures[i + 1]\n",
    "\n",
    "        total += (nextT - currentT) * (1 / nextT - 1 / currentT)\n",
    "\n",
    "    return total"
   ]
  },
  {
   "cell_type": "code",
   "execution_count": 87,
   "id": "5daa3137",
   "metadata": {},
   "outputs": [],
   "source": [
    "def MakePlots(data):\n",
    "\n",
    "    # REFORMATING DATA\n",
    "    temperatureArray = np.zeros((len(data[0]), len(data[1][0])))\n",
    "\n",
    "    internalEntropy = []\n",
    "\n",
    "    for i, timeRow in enumerate(temperatureArray):\n",
    "        temperatures = CalibrationFunction(data[1][i])\n",
    "        temperatureArray[i] = temperatures\n",
    "                \n",
    "        internalEntropy.append(dS_internal(np.flip(temperatures)))\n",
    "\n",
    "    # ENTROPY PLOTS\n",
    "    plt.scatter(np.arange(len(temperatureArray)), internalEntropy)\n",
    "    return\n",
    "    \n",
    "\n",
    "\n",
    "    # PLOTTING\n",
    "    fig = plt.figure()\n",
    "    ax = fig.add_subplot(111)\n",
    "\n",
    "    cbar = ax.pcolormesh(temperatureArray.T, cmap=\"viridis\")\n",
    "    fig.colorbar(cbar, label=r\"Temperature ($\\circ$ C)\")\n",
    "\n",
    "    ax.set_xlabel(\"Time (minutes)\")\n",
    "    ax.set_ylabel(\"Pin Number\") # Note we need to convert from pin number to distance from hot resevoir\n",
    "\n",
    "    plt.gca().invert_yaxis()"
   ]
  },
  {
   "cell_type": "code",
   "execution_count": 88,
   "id": "925bece4",
   "metadata": {},
   "outputs": [
    {
     "data": {
      "image/png": "[encoded data removed]",
      "text/plain": [
       "<Figure size 640x480 with 1 Axes>"
      ]
     },
     "metadata": {},
     "output_type": "display_data"
    }
   ],
   "source": [
    "MakePlots(GetData(\"/home/daraghhollman/Main/ucd_4thYearLabs/NewtonsCooling/data/run_one_cont/*\"))"
   ]
  }
 ],
 "metadata": {
  "kernelspec": {
   "display_name": "Python 3 (ipykernel)",
   "language": "python",
   "name": "python3"
  },
  "language_info": {
   "codemirror_mode": {
    "name": "ipython",
    "version": 3
   },
   "file_extension": ".py",
   "mimetype": "text/x-python",
   "name": "python",
   "nbconvert_exporter": "python",
   "pygments_lexer": "ipython3",
   "version": "3.12.0"
  }
 },
 "nbformat": 4,
 "nbformat_minor": 5
}
